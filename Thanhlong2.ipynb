{
  "cells": [
    {
      "cell_type": "code",
      "source": [
        "from google.colab import drive\n",
        "drive.mount('/content/drive')"
      ],
      "metadata": {
        "colab": {
          "base_uri": "https://localhost:8080/"
        },
        "id": "wGkCLwhIQTr7",
        "outputId": "1700f489-f3f8-4b6b-ea0e-6ea4227838b8"
      },
      "execution_count": null,
      "outputs": [
        {
          "output_type": "stream",
          "name": "stdout",
          "text": [
            "Mounted at /content/drive\n"
          ]
        }
      ]
    },
    {
      "cell_type": "code",
      "execution_count": null,
      "metadata": {
        "id": "qlaSVhbP9WyP"
      },
      "outputs": [],
      "source": [
        "from tensorflow import keras\n",
        "from tensorflow.keras.preprocessing.image import ImageDataGenerator\n",
        "from tensorflow.keras.preprocessing import image\n",
        "from tensorflow.keras.models import Sequential, Model\n",
        "from tensorflow.keras.layers import GlobalAveragePooling2D, Dense, BatchNormalization, Dropout, Flatten, Conv2D, MaxPooling2D\n",
        "from tensorflow.keras.optimizers import Adam,SGD\n",
        "import numpy as np\n",
        "import random\n",
        "import matplotlib.pyplot as plt\n",
        "%matplotlib inline\n",
        "import tensorflow as tf"
      ]
    },
    {
      "cell_type": "code",
      "execution_count": null,
      "metadata": {
        "id": "HcTkJoDE9mGw"
      },
      "outputs": [],
      "source": [
        "im_shape = (250,200)\n",
        "\n",
        "TRAINING_DIR = '/content/drive/MyDrive/Colab Notebooks/Train_AI/Fruit/Train'\n",
        "TEST_DIR = '/content/drive/MyDrive/Colab Notebooks/Train_AI/Fruit/Test/'\n",
        "\n",
        "seed = 10\n",
        "BATCH_SIZE = 16"
      ]
    },
    {
      "cell_type": "code",
      "execution_count": null,
      "metadata": {
        "id": "E0St1wW49mfc"
      },
      "outputs": [],
      "source": [
        "data_generator = ImageDataGenerator(rescale=1./255, validation_split=0.2)\n",
        "val_data_generator = ImageDataGenerator(rescale=1./255, validation_split=0.2)"
      ]
    },
    {
      "cell_type": "code",
      "execution_count": null,
      "metadata": {
        "id": "3XlHfuhI-Qa-"
      },
      "outputs": [],
      "source": [
        "data_generator = ImageDataGenerator(\n",
        "        validation_split=0.2,\n",
        "        rotation_range=20,\n",
        "        width_shift_range=0.2,\n",
        "        height_shift_range=0.2,\n",
        "        rescale=1./255,\n",
        "        shear_range=0.2,\n",
        "        zoom_range=0.2,\n",
        "        horizontal_flip=True,\n",
        "        fill_mode='nearest')\n",
        "\n",
        "val_data_generator = ImageDataGenerator(rescale=1./255, validation_split=0.2)"
      ]
    },
    {
      "cell_type": "markdown",
      "source": [
        "sau"
      ],
      "metadata": {
        "id": "MVgIXCI3SkXL"
      }
    },
    {
      "cell_type": "code",
      "source": [
        "# Generator data train\n",
        "train_generator = data_generator.flow_from_directory(TRAINING_DIR, target_size=im_shape, shuffle=True, seed=seed,\n",
        "                                                     class_mode='categorical', batch_size=BATCH_SIZE, subset=\"training\")\n",
        "# Generator data validation\n",
        "validation_generator = val_data_generator.flow_from_directory(TRAINING_DIR, target_size=im_shape, shuffle=False, seed=seed,\n",
        "                                                     class_mode='categorical', batch_size=BATCH_SIZE, subset=\"validation\")\n",
        "\n",
        "# Generator data test\n",
        "test_generator = ImageDataGenerator(rescale=1./255)\n",
        "test_generator = test_generator.flow_from_directory(TEST_DIR, target_size=im_shape, shuffle=False, seed=seed,\n",
        "                                                     class_mode='categorical', batch_size=BATCH_SIZE)\n",
        "\n",
        "nb_train_samples = train_generator.samples\n",
        "nb_validation_samples = validation_generator.samples\n",
        "nb_test_samples = test_generator.samples\n",
        "classes = list(train_generator.class_indices.keys())\n",
        "print('Classes: '+str(classes))\n",
        "num_classes  = len(classes)"
      ],
      "metadata": {
        "colab": {
          "base_uri": "https://localhost:8080/"
        },
        "id": "2POHPcccSmPY",
        "outputId": "4df50257-064e-406b-88ca-6d035e844cf9"
      },
      "execution_count": null,
      "outputs": [
        {
          "output_type": "stream",
          "name": "stdout",
          "text": [
            "Found 178 images belonging to 4 classes.\n",
            "Found 43 images belonging to 4 classes.\n",
            "Found 71 images belonging to 4 classes.\n",
            "Classes: ['Cam', 'Chuoi', 'Man', 'ThanhLong']\n"
          ]
        }
      ]
    },
    {
      "cell_type": "code",
      "execution_count": null,
      "metadata": {
        "id": "Y22zfzvR-nJG",
        "colab": {
          "base_uri": "https://localhost:8080/"
        },
        "outputId": "c8304338-1d2b-4cf7-fc46-ceb9883c9f81"
      },
      "outputs": [
        {
          "output_type": "stream",
          "name": "stdout",
          "text": [
            "Model: \"sequential\"\n",
            "_________________________________________________________________\n",
            " Layer (type)                Output Shape              Param #   \n",
            "=================================================================\n",
            " conv2d (Conv2D)             (None, 248, 198, 32)      896       \n",
            "                                                                 \n",
            " max_pooling2d (MaxPooling2D  (None, 124, 99, 32)      0         \n",
            " )                                                               \n",
            "                                                                 \n",
            " conv2d_1 (Conv2D)           (None, 122, 97, 64)       18496     \n",
            "                                                                 \n",
            " flatten (Flatten)           (None, 757376)            0         \n",
            "                                                                 \n",
            " dense (Dense)               (None, 128)               96944256  \n",
            "                                                                 \n",
            " dropout (Dropout)           (None, 128)               0         \n",
            "                                                                 \n",
            " dense_1 (Dense)             (None, 4)                 516       \n",
            "                                                                 \n",
            "=================================================================\n",
            "Total params: 96,964,164\n",
            "Trainable params: 96,964,164\n",
            "Non-trainable params: 0\n",
            "_________________________________________________________________\n"
          ]
        }
      ],
      "source": [
        "model = Sequential()\n",
        "model.add(Conv2D(32, kernel_size=(3, 3),\n",
        "                 activation='relu',\n",
        "                 input_shape=(im_shape[0],im_shape[1],3)))\n",
        "model.add(MaxPooling2D(pool_size=(2, 2)))\n",
        "model.add(Conv2D(64, kernel_size=(3,3), activation='relu'))\n",
        "model.add(Flatten())\n",
        "model.add(Dense(128, activation='relu'))\n",
        "model.add(Dropout(0.2))\n",
        "model.add(Dense(num_classes, activation='softmax'))\n",
        "model.summary()\n",
        "\n",
        "# Compile model\n",
        "\n",
        "model.compile(loss='categorical_crossentropy',\n",
        "              optimizer=Adam(),\n",
        "              metrics=['accuracy'])"
      ]
    },
    {
      "cell_type": "code",
      "execution_count": null,
      "metadata": {
        "colab": {
          "base_uri": "https://localhost:8080/"
        },
        "id": "d2XAku86-pFt",
        "outputId": "bf2f3470-3531-4c32-c5a6-8da8b0e5b0e5"
      },
      "outputs": [
        {
          "output_type": "stream",
          "name": "stdout",
          "text": [
            "Epoch 1/50\n",
            "11/11 [==============================] - 4s 263ms/step - loss: 9.9325 - accuracy: 0.6667 - val_loss: 1.9590 - val_accuracy: 0.7500\n",
            "Epoch 2/50\n",
            "11/11 [==============================] - 3s 242ms/step - loss: 0.9719 - accuracy: 0.8519 - val_loss: 0.6016 - val_accuracy: 0.6875\n",
            "Epoch 3/50\n",
            "11/11 [==============================] - 3s 250ms/step - loss: 0.2212 - accuracy: 0.9261 - val_loss: 0.3408 - val_accuracy: 0.8750\n",
            "Epoch 4/50\n",
            "11/11 [==============================] - 3s 242ms/step - loss: 0.2520 - accuracy: 0.9198 - val_loss: 0.4205 - val_accuracy: 0.8125\n",
            "Epoch 5/50\n",
            "11/11 [==============================] - 3s 268ms/step - loss: 0.1706 - accuracy: 0.9630 - val_loss: 0.3922 - val_accuracy: 0.8438\n",
            "Epoch 6/50\n",
            "11/11 [==============================] - 3s 242ms/step - loss: 0.1263 - accuracy: 0.9383 - val_loss: 0.3142 - val_accuracy: 0.9375\n",
            "Epoch 7/50\n",
            "11/11 [==============================] - 3s 244ms/step - loss: 0.1042 - accuracy: 0.9630 - val_loss: 0.3998 - val_accuracy: 0.9062\n",
            "Epoch 8/50\n",
            "11/11 [==============================] - 3s 241ms/step - loss: 0.2071 - accuracy: 0.9506 - val_loss: 1.1646 - val_accuracy: 0.8125\n",
            "Epoch 9/50\n",
            "11/11 [==============================] - 3s 300ms/step - loss: 0.1492 - accuracy: 0.9383 - val_loss: 0.2222 - val_accuracy: 0.9062\n",
            "Epoch 10/50\n",
            "11/11 [==============================] - 3s 239ms/step - loss: 0.1509 - accuracy: 0.9691 - val_loss: 0.2555 - val_accuracy: 0.9375\n",
            "Epoch 11/50\n",
            "11/11 [==============================] - 3s 231ms/step - loss: 0.1192 - accuracy: 0.9506 - val_loss: 0.2232 - val_accuracy: 0.9688\n",
            "Epoch 12/50\n",
            "11/11 [==============================] - 3s 237ms/step - loss: 0.1360 - accuracy: 0.9383 - val_loss: 0.5014 - val_accuracy: 0.8125\n",
            "Epoch 13/50\n",
            "11/11 [==============================] - 3s 241ms/step - loss: 0.1030 - accuracy: 0.9630 - val_loss: 0.2956 - val_accuracy: 0.8750\n",
            "Epoch 14/50\n",
            "11/11 [==============================] - 3s 266ms/step - loss: 0.0996 - accuracy: 0.9630 - val_loss: 0.2973 - val_accuracy: 0.9375\n",
            "Epoch 15/50\n",
            "11/11 [==============================] - 3s 244ms/step - loss: 0.0863 - accuracy: 0.9691 - val_loss: 0.8019 - val_accuracy: 0.7500\n",
            "Epoch 16/50\n",
            "11/11 [==============================] - 3s 255ms/step - loss: 0.6187 - accuracy: 0.7531 - val_loss: 0.5442 - val_accuracy: 0.8125\n",
            "Epoch 17/50\n",
            "11/11 [==============================] - 3s 239ms/step - loss: 0.2674 - accuracy: 0.8889 - val_loss: 0.6414 - val_accuracy: 0.8125\n",
            "Epoch 18/50\n",
            "11/11 [==============================] - 3s 244ms/step - loss: 0.1915 - accuracy: 0.9198 - val_loss: 0.5181 - val_accuracy: 0.7812\n",
            "Epoch 19/50\n",
            "11/11 [==============================] - 3s 242ms/step - loss: 0.1902 - accuracy: 0.9074 - val_loss: 0.6136 - val_accuracy: 0.7812\n",
            "Epoch 20/50\n",
            "11/11 [==============================] - 3s 245ms/step - loss: 0.1562 - accuracy: 0.9198 - val_loss: 0.8989 - val_accuracy: 0.7500\n",
            "Epoch 21/50\n",
            "11/11 [==============================] - 3s 250ms/step - loss: 0.1429 - accuracy: 0.9383 - val_loss: 0.3242 - val_accuracy: 0.8438\n",
            "Epoch 22/50\n",
            "11/11 [==============================] - 3s 248ms/step - loss: 0.1510 - accuracy: 0.9506 - val_loss: 0.8068 - val_accuracy: 0.8125\n",
            "Epoch 23/50\n",
            "11/11 [==============================] - 3s 242ms/step - loss: 0.1265 - accuracy: 0.9506 - val_loss: 1.1803 - val_accuracy: 0.8438\n",
            "Epoch 24/50\n",
            "11/11 [==============================] - 3s 242ms/step - loss: 0.1058 - accuracy: 0.9691 - val_loss: 0.4573 - val_accuracy: 0.9062\n",
            "Epoch 25/50\n",
            "11/11 [==============================] - 3s 237ms/step - loss: 0.1082 - accuracy: 0.9568 - val_loss: 1.1926 - val_accuracy: 0.8438\n",
            "Epoch 26/50\n",
            "11/11 [==============================] - 3s 243ms/step - loss: 0.1781 - accuracy: 0.9568 - val_loss: 1.1538 - val_accuracy: 0.7812\n",
            "Epoch 27/50\n",
            "11/11 [==============================] - 3s 249ms/step - loss: 0.3423 - accuracy: 0.8977 - val_loss: 1.2159 - val_accuracy: 0.7500\n",
            "Epoch 28/50\n",
            "11/11 [==============================] - 3s 241ms/step - loss: 0.2043 - accuracy: 0.9074 - val_loss: 0.4309 - val_accuracy: 0.8125\n",
            "Epoch 29/50\n",
            "11/11 [==============================] - 3s 259ms/step - loss: 0.2190 - accuracy: 0.8827 - val_loss: 0.5637 - val_accuracy: 0.7500\n",
            "Epoch 30/50\n",
            "11/11 [==============================] - 3s 232ms/step - loss: 0.1907 - accuracy: 0.9136 - val_loss: 1.2172 - val_accuracy: 0.8125\n",
            "Epoch 31/50\n",
            "11/11 [==============================] - 3s 236ms/step - loss: 0.1187 - accuracy: 0.9568 - val_loss: 1.5890 - val_accuracy: 0.7500\n",
            "Epoch 32/50\n",
            "11/11 [==============================] - 3s 234ms/step - loss: 0.1408 - accuracy: 0.9506 - val_loss: 1.0191 - val_accuracy: 0.8438\n",
            "Epoch 33/50\n",
            "11/11 [==============================] - 3s 254ms/step - loss: 0.1735 - accuracy: 0.9659 - val_loss: 0.6861 - val_accuracy: 0.8438\n",
            "Epoch 34/50\n",
            "11/11 [==============================] - 3s 255ms/step - loss: 0.1579 - accuracy: 0.9545 - val_loss: 0.4583 - val_accuracy: 0.8750\n",
            "Epoch 35/50\n",
            "11/11 [==============================] - 3s 261ms/step - loss: 0.2377 - accuracy: 0.9506 - val_loss: 0.9237 - val_accuracy: 0.7500\n",
            "Epoch 36/50\n",
            "11/11 [==============================] - 3s 246ms/step - loss: 0.1527 - accuracy: 0.9630 - val_loss: 1.1539 - val_accuracy: 0.8125\n",
            "Epoch 37/50\n",
            "11/11 [==============================] - 3s 241ms/step - loss: 0.1295 - accuracy: 0.9630 - val_loss: 0.5535 - val_accuracy: 0.8438\n",
            "Epoch 38/50\n",
            "11/11 [==============================] - 3s 245ms/step - loss: 0.1834 - accuracy: 0.9383 - val_loss: 1.7314 - val_accuracy: 0.7500\n",
            "Epoch 39/50\n",
            "11/11 [==============================] - 3s 243ms/step - loss: 0.2303 - accuracy: 0.9444 - val_loss: 0.3612 - val_accuracy: 0.8750\n",
            "Epoch 40/50\n",
            "11/11 [==============================] - 3s 257ms/step - loss: 0.1847 - accuracy: 0.9261 - val_loss: 0.8370 - val_accuracy: 0.7812\n",
            "Epoch 41/50\n",
            "11/11 [==============================] - 3s 265ms/step - loss: 0.1984 - accuracy: 0.9259 - val_loss: 0.4965 - val_accuracy: 0.7812\n",
            "Epoch 42/50\n",
            "11/11 [==============================] - 3s 237ms/step - loss: 0.1321 - accuracy: 0.9630 - val_loss: 0.5031 - val_accuracy: 0.7812\n",
            "Epoch 43/50\n",
            "11/11 [==============================] - 3s 240ms/step - loss: 0.1953 - accuracy: 0.9506 - val_loss: 0.5956 - val_accuracy: 0.8438\n",
            "Epoch 44/50\n",
            "11/11 [==============================] - 3s 242ms/step - loss: 0.1537 - accuracy: 0.9321 - val_loss: 0.2910 - val_accuracy: 0.8438\n",
            "Epoch 45/50\n",
            "11/11 [==============================] - 3s 233ms/step - loss: 0.1263 - accuracy: 0.9630 - val_loss: 0.6181 - val_accuracy: 0.7500\n",
            "Epoch 46/50\n",
            "11/11 [==============================] - 3s 237ms/step - loss: 0.4521 - accuracy: 0.9198 - val_loss: 1.0899 - val_accuracy: 0.7500\n",
            "Epoch 47/50\n",
            "11/11 [==============================] - 3s 256ms/step - loss: 0.1075 - accuracy: 0.9602 - val_loss: 0.4968 - val_accuracy: 0.8438\n",
            "Epoch 48/50\n",
            "11/11 [==============================] - 3s 241ms/step - loss: 0.1131 - accuracy: 0.9568 - val_loss: 0.4924 - val_accuracy: 0.8750\n",
            "Epoch 49/50\n",
            "11/11 [==============================] - 3s 257ms/step - loss: 0.0577 - accuracy: 0.9830 - val_loss: 0.4259 - val_accuracy: 0.9062\n",
            "Epoch 50/50\n",
            "11/11 [==============================] - 3s 246ms/step - loss: 0.0483 - accuracy: 0.9938 - val_loss: 0.6671 - val_accuracy: 0.8438\n"
          ]
        }
      ],
      "source": [
        "#Training\n",
        "history = model.fit(\n",
        "        train_generator,\n",
        "        steps_per_epoch=nb_train_samples // BATCH_SIZE,\n",
        "        epochs=50,\n",
        "        \n",
        "        validation_data=validation_generator,\n",
        "        verbose = 1,\n",
        "        validation_steps=nb_validation_samples // BATCH_SIZE)"
      ]
    },
    {
      "cell_type": "code",
      "execution_count": null,
      "metadata": {
        "id": "t0Mt8zCD-reK"
      },
      "outputs": [],
      "source": [
        "from keras.models import load_model\n",
        "import numpy as np\n",
        "from keras.preprocessing.image import load_img,img_to_array"
      ]
    },
    {
      "cell_type": "code",
      "execution_count": null,
      "metadata": {
        "id": "iX-5RRjG-tDd"
      },
      "outputs": [],
      "source": [
        "model.save('/content/drive/MyDrive/Colab Notebooks/Train_AI/Fruit/model_thanhlong.h5')"
      ]
    },
    {
      "cell_type": "code",
      "source": [
        "model.save('model_thanhlong.h5')"
      ],
      "metadata": {
        "id": "s230YQHJZh0u"
      },
      "execution_count": null,
      "outputs": []
    },
    {
      "cell_type": "code",
      "execution_count": null,
      "metadata": {
        "id": "9WkEM7eM-wBX"
      },
      "outputs": [],
      "source": [
        "model5 = tf.keras.models.load_model('/content/drive/MyDrive/Colab Notebooks/Train_AI/Fruit/model_thanhlong.h5')"
      ]
    },
    {
      "cell_type": "code",
      "execution_count": null,
      "metadata": {
        "colab": {
          "base_uri": "https://localhost:8080/",
          "height": 286
        },
        "id": "D3bI6GiD-xbD",
        "outputId": "c6642405-5e18-4559-bd0d-9cafa9288d3a"
      },
      "outputs": [
        {
          "output_type": "stream",
          "name": "stdout",
          "text": [
            "ThanhLong\n"
          ]
        },
        {
          "output_type": "display_data",
          "data": {
            "text/plain": [
              "<Figure size 432x288 with 1 Axes>"
            ],
            "image/png": "[encoded data removed]"
          },
          "metadata": {
            "needs_background": "light"
          }
        }
      ],
      "source": [
        "img=load_img('/content/drive/MyDrive/Colab Notebooks/Train_AI/Fruit/Test/ThanhLong/ThanhLong_0007.bmp',target_size=(250,200))\n",
        "image=img\n",
        "plt.imshow(img)\n",
        "imgRe=img_to_array(img)\n",
        "imgRe=imgRe.reshape(1,250,200,3)\n",
        "imgRe=imgRe.astype('float32')\n",
        "imgRe/=255\n",
        "\n",
        "#them\n",
        "y_pred = model5.predict(imgRe)\n",
        "y_classes = [np.argmax(element) for element in y_pred]\n",
        "classes[y_classes[0]]\n",
        "\n",
        "np.argmax(y_pred,axis=1)[0]\n",
        "classes[np.argmax(y_pred,axis=1)[0]]\n",
        "if(y_classes[0]==3):\n",
        "  result=1\n",
        "  print(\"ThanhLong\")\n",
        "else:\n",
        "  result=0\n",
        "  print(\"Other fruit\")"
      ]
    },
    {
      "cell_type": "code",
      "execution_count": null,
      "metadata": {
        "id": "qfV6hmCHF1mr"
      },
      "outputs": [],
      "source": [
        "import numpy as np\n",
        "import pandas as pd\n",
        "import cv2 as cv \n",
        "from google.colab.patches import cv2_imshow # for image display\n",
        "from skimage import io\n",
        "from PIL import Image \n",
        "import matplotlib.pylab as plt"
      ]
    },
    {
      "cell_type": "code",
      "execution_count": null,
      "metadata": {
        "colab": {
          "base_uri": "https://localhost:8080/",
          "height": 77
        },
        "id": "839jg3W0KNCn",
        "outputId": "08946fa2-2c1f-4a2b-c11b-32a7a47b3a4c"
      },
      "outputs": [
        {
          "output_type": "display_data",
          "data": {
            "text/plain": [
              "<PIL.Image.Image image mode=RGB size=75x60 at 0x7FAC23855E50>"
            ],
            "image/png": "[encoded data removed]"
          },
          "metadata": {}
        }
      ],
      "source": [
        "if result==1: #goc la 1\n",
        "  #image = cv.imread(\"56789.jpg\")\n",
        "  #image = cv.imread(\"/content/drive/MyDrive/Colab Notebooks/Train_AI/Fruit/Test/ThanhLong/2.jpg\")\n",
        "  image = cv.imread(\"ThanhLong_0006.jpg\")\n",
        "  width, height = int(image.shape[1]*0.3), int(image.shape[0]*0.3)\n",
        "  resized_img = cv.resize(image, (width, height), interpolation = cv.INTER_AREA,)\n",
        "  cv2_imshow(resized_img)\n",
        "else:\n",
        "  print(\"other fruit\")"
      ]
    },
    {
      "cell_type": "code",
      "execution_count": null,
      "metadata": {
        "colab": {
          "base_uri": "https://localhost:8080/",
          "height": 77
        },
        "id": "FRbMJsj2Vvao",
        "outputId": "906bf5f7-015c-4e25-9fd0-a5d1becca8fd"
      },
      "outputs": [
        {
          "output_type": "display_data",
          "data": {
            "text/plain": [
              "<PIL.Image.Image image mode=L size=75x60 at 0x7FAC23855E50>"
            ],
            "image/png": "[encoded data removed]"
          },
          "metadata": {}
        }
      ],
      "source": [
        "if result==1:\n",
        "  ##convert image to HSV\n",
        "  image_hsv = cv.cvtColor(resized_img,cv.COLOR_BGR2HSV)\n",
        "  #image_rgb = cv.cvtColor(resized_img,cv.COLOR_BGR2RGB)\n",
        "# H: (Hue) Vùng màu\n",
        "# S: (Saturation) Độ bão hòa màu\n",
        "# B (hay V): (Bright hay Value) Độ sáng\n",
        "  ##choose color HSV, \n",
        "  low_h=150   #10\n",
        "  high_h=170   #25\n",
        "  low_s=150   #150\n",
        "  high_s=255  #255\n",
        "  low_v=20    #20\n",
        "  high_v=255  #255\n",
        "\n",
        "  #binary to image\n",
        "  b_img = cv.inRange(image_hsv, (low_h, low_s, low_v), (high_h, high_s, high_v))\n",
        "  #b_img=cv.inRange(image_rgb,(255,192,203),(257,194,205))\n",
        "  cv2_imshow(b_img)\n",
        "else:\n",
        "  print(\"other fruit\")"
      ]
    },
    {
      "cell_type": "code",
      "execution_count": null,
      "metadata": {
        "colab": {
          "base_uri": "https://localhost:8080/",
          "height": 77
        },
        "id": "wK0JMSfaKP9Z",
        "outputId": "7d70fe58-3a52-43cf-ecb0-895f03edd6db"
      },
      "outputs": [
        {
          "output_type": "display_data",
          "data": {
            "text/plain": [
              "<PIL.Image.Image image mode=L size=75x60 at 0x7FAC23868710>"
            ],
            "image/png": "[encoded data removed]"
          },
          "metadata": {}
        }
      ],
      "source": [
        " # morpho để khử nhiễu\n",
        "kn = cv.getStructuringElement(cv.MORPH_ELLIPSE, (3, 3)) ##ma tran vuong\n",
        "m_img = cv.morphologyEx(b_img, cv.MORPH_OPEN, kn, iterations=1)\n",
        "m_img = cv.morphologyEx(m_img, cv.MORPH_CLOSE, kn, iterations=1)\n",
        "cv2_imshow(m_img)"
      ]
    },
    {
      "cell_type": "code",
      "execution_count": null,
      "metadata": {
        "colab": {
          "base_uri": "https://localhost:8080/"
        },
        "id": "LIDUPndoZvBI",
        "outputId": "1aebed6b-ea60-4676-c79b-65a58768a709"
      },
      "outputs": [
        {
          "output_type": "stream",
          "name": "stdout",
          "text": [
            "2\n"
          ]
        }
      ],
      "source": [
        " ## tìm đường số lượng contour\n",
        " # function find contours in binary image\n",
        " #RETR_EXTERNAL: lay duong bao ngoai\n",
        "contour, hie = cv.findContours(m_img, cv.RETR_EXTERNAL, cv.CHAIN_APPROX_SIMPLE)\n",
        "print(len(contour))"
      ]
    },
    {
      "cell_type": "code",
      "execution_count": null,
      "metadata": {
        "colab": {
          "base_uri": "https://localhost:8080/",
          "height": 94
        },
        "id": "q0XAgozZbhdB",
        "outputId": "b4c0d62e-2b36-4168-83cf-9fc12cede974"
      },
      "outputs": [
        {
          "output_type": "stream",
          "name": "stdout",
          "text": [
            "25\n"
          ]
        },
        {
          "output_type": "display_data",
          "data": {
            "text/plain": [
              "<PIL.Image.Image image mode=RGB size=75x60 at 0x7FAB0E9339D0>"
            ],
            "image/png": "[encoded data removed]"
          },
          "metadata": {}
        }
      ],
      "source": [
        "for c in contour:\n",
        "  (x, y), radius = cv.minEnclosingCircle(c)\n",
        "  cirlearea = np.pi * (radius ** 2)\n",
        "  area = cv.contourArea(c)\n",
        "  if (1 - area / cirlearea) < 0.4:\n",
        "    center = (int(x), int(y))\n",
        "    radius = int(radius)\n",
        "    cv.circle(resized_img, center, radius, (255, 0, 0), 2)\n",
        "    print(radius)\n",
        "\n",
        "cv2_imshow(resized_img)"
      ]
    },
    {
      "cell_type": "code",
      "source": [
        "if result==1:\n",
        "  for c in contour:\n",
        "    (x, y), radius = cv.minEnclosingCircle(c)\n",
        "    cirlearea = np.pi * (radius ** 2)\n",
        "    area = cv.contourArea(c)\n",
        "    if (1 - area / cirlearea) < 0.4:\n",
        "      center = (int(x), int(y))\n",
        "      radius = int(radius)\n",
        "      cv.circle(resized_img, center, radius, (255, 0, 0), 2)\n",
        "      radius1=radius*0.3\n",
        "      print('ban kinh qua thanh long=',radius*0.3,'mm')\n",
        "      font = cv.FONT_HERSHEY_SIMPLEX\n",
        "      org = (120, 120)\n",
        "      fontScale = 1.5\n",
        "      color = (0, 255, 0)\n",
        "      thickness = 2\n",
        "      text =  ('Dragon Fruit Radius= '+ str(radius*0.3) +' mm')\n",
        "      cv.putText(resized_img, text ,org, font,fontScale/3, color, thickness, cv.LINE_AA)\n",
        "\n",
        "  cv2_imshow(resized_img)"
      ],
      "metadata": {
        "colab": {
          "base_uri": "https://localhost:8080/",
          "height": 94
        },
        "id": "pHYDOO7Fz129",
        "outputId": "770fd9d2-605f-49f9-9f80-9a844a8cc120"
      },
      "execution_count": null,
      "outputs": [
        {
          "output_type": "stream",
          "name": "stdout",
          "text": [
            "ban kinh qua thanh long= 7.5 mm\n"
          ]
        },
        {
          "output_type": "display_data",
          "data": {
            "text/plain": [
              "<PIL.Image.Image image mode=RGB size=75x60 at 0x7FAC220389D0>"
            ],
            "image/png": "[encoded data removed]"
          },
          "metadata": {}
        }
      ]
    },
    {
      "cell_type": "code",
      "source": [
        "from os import listdir\n",
        "import cv2\n",
        "import numpy as np\n",
        "import pickle\n",
        "from sklearn.preprocessing import OneHotEncoder\n",
        "from sklearn.model_selection import train_test_split\n",
        "from keras.layers import Input, Flatten, Dense, Dropout\n",
        "from tensorflow.keras.models import Sequential, Model\n",
        "from keras.models import Model\n",
        "from keras.callbacks import ModelCheckpoint\n",
        "import matplotlib.pyplot as plt\n",
        "import random\n",
        "from keras.models import  load_model\n",
        "import sys\n"
      ],
      "metadata": {
        "id": "ZO_n9B2VTc2a"
      },
      "execution_count": null,
      "outputs": []
    },
    {
      "cell_type": "code",
      "source": [
        "from google.colab.patches import cv2_imshow"
      ],
      "metadata": {
        "id": "QYOvQ9rHfGlF"
      },
      "execution_count": null,
      "outputs": []
    },
    {
      "cell_type": "code",
      "source": [
        "cap = cv2.VideoCapture(\"/content/drive/MyDrive/Colab Notebooks/Train_AI/thanhlong.mp4\")\n",
        "class_name =['Cam','Chuoi','Man','ThanhLong']\n",
        "while(True):\n",
        "    # Capture frame-by-frame\n",
        "    #\n",
        "    ret, image_org = cap.read()\n",
        "    if not ret:\n",
        "        continue\n",
        "    image_org = cv2.resize(image_org, dsize=None,fx=0.4,fy=0.4)\n",
        "    # Resize\n",
        "    image = image_org.copy()\n",
        "    image = cv2.resize(image, dsize=(200,250))\n",
        "    image = image.astype('float')*1./255\n",
        "    # Convert to tensor\n",
        "    image = np.expand_dims(image, axis=0)\n",
        "\n",
        "\n",
        "    # pic = image.load_img('../BAOCAOCUOIKI/test/asagi2.jpg', target_size=(250,200))\n",
        "    # plt.imshow(pic)\n",
        "    # pic = img_to_array(pic)\n",
        "    # pic = pic.reshape(1,250,200,3) \n",
        "    # pic = pic.astype('float32')\n",
        "    # pic = pic/255\n",
        "    # print(np.argmax(model.predict(pic), axis=1))\n",
        "    # print(labels)\n",
        "\n",
        "    # Predict\n",
        "    predict = model.predict(image)\n",
        "    print(\"This picture is: \", class_name[np.argmax(predict[0])])\n",
        "    #print(\"This picture is: \", class_name[np.argmax(predict[0])], (predict[0]))\n",
        "    print(np.max(predict[0],axis=0))\n",
        "    if (np.max(predict)>=0.8) and (np.argmax(predict[0])!=0):\n",
        "\n",
        "\n",
        "        # Show image\n",
        "        font = cv2.FONT_HERSHEY_SIMPLEX\n",
        "        org = (50, 50)\n",
        "        fontScale = 1.5\n",
        "        color = (0, 255, 0)\n",
        "        thickness = 2\n",
        "\n",
        "        cv2.putText(image_org, class_name[np.argmax(predict)], org, font,\n",
        "                    fontScale, color, thickness, cv2.LINE_AA)\n",
        "\n",
        "    #cv2.imshow(\"Picture\", image_org)\n",
        "\n",
        "    if cv2.waitKey(1) & 0xFF == ord('q'):\n",
        "        break\n",
        "\n",
        "# When everything done, release the capture\n",
        "cap.release()\n",
        "cv2.destroyAllWindows()"
      ],
      "metadata": {
        "colab": {
          "base_uri": "https://localhost:8080/",
          "height": 235
        },
        "id": "33mZJTHwT69X",
        "outputId": "062e6bea-81c5-4d1e-ec13-4b29e0c38b2d"
      },
      "execution_count": null,
      "outputs": [
        {
          "output_type": "error",
          "ename": "KeyboardInterrupt",
          "evalue": "ignored",
          "traceback": [
            "\u001b[0;31m---------------------------------------------------------------------------\u001b[0m",
            "\u001b[0;31mKeyboardInterrupt\u001b[0m                         Traceback (most recent call last)",
            "\u001b[0;32m<ipython-input-24-8c1399c24c9c>\u001b[0m in \u001b[0;36m<module>\u001b[0;34m()\u001b[0m\n\u001b[1;32m      4\u001b[0m     \u001b[0;31m# Capture frame-by-frame\u001b[0m\u001b[0;34m\u001b[0m\u001b[0;34m\u001b[0m\u001b[0;34m\u001b[0m\u001b[0m\n\u001b[1;32m      5\u001b[0m     \u001b[0;31m#\u001b[0m\u001b[0;34m\u001b[0m\u001b[0;34m\u001b[0m\u001b[0;34m\u001b[0m\u001b[0m\n\u001b[0;32m----> 6\u001b[0;31m     \u001b[0mret\u001b[0m\u001b[0;34m,\u001b[0m \u001b[0mimage_org\u001b[0m \u001b[0;34m=\u001b[0m \u001b[0mcap\u001b[0m\u001b[0;34m.\u001b[0m\u001b[0mread\u001b[0m\u001b[0;34m(\u001b[0m\u001b[0;34m)\u001b[0m\u001b[0;34m\u001b[0m\u001b[0;34m\u001b[0m\u001b[0m\n\u001b[0m\u001b[1;32m      7\u001b[0m     \u001b[0;32mif\u001b[0m \u001b[0;32mnot\u001b[0m \u001b[0mret\u001b[0m\u001b[0;34m:\u001b[0m\u001b[0;34m\u001b[0m\u001b[0;34m\u001b[0m\u001b[0m\n\u001b[1;32m      8\u001b[0m         \u001b[0;32mcontinue\u001b[0m\u001b[0;34m\u001b[0m\u001b[0;34m\u001b[0m\u001b[0m\n",
            "\u001b[0;31mKeyboardInterrupt\u001b[0m: "
          ]
        }
      ]
    }
  ],
  "metadata": {
    "accelerator": "GPU",
    "colab": {
      "collapsed_sections": [],
      "name": "Thanhlong2.ipynb",
      "provenance": []
    },
    "gpuClass": "standard",
    "kernelspec": {
      "display_name": "Python 3",
      "name": "python3"
    },
    "language_info": {
      "name": "python"
    }
  },
  "nbformat": 4,
  "nbformat_minor": 0
}